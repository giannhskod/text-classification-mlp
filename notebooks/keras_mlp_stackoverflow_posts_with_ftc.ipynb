{
 "cells": [
  {
   "cell_type": "markdown",
   "metadata": {},
   "source": [
    "# Text Classification of StackOverflow using  Embeddings Centroids Vectors"
   ]
  },
  {
   "cell_type": "code",
   "execution_count": 1,
   "metadata": {},
   "outputs": [
    {
     "name": "stderr",
     "output_type": "stream",
     "text": [
      "Using TensorFlow backend.\n"
     ]
    }
   ],
   "source": [
    "import sys\n",
    "import os\n",
    "from os import pardir, getcwd\n",
    "from os.path import join, abspath\n",
    "PARENT_DIRECTORY = abspath(join(getcwd(), pardir))\n",
    "sys.path.insert(0, PARENT_DIRECTORY)\n",
    "\n",
    "import warnings\n",
    "import sklearn.exceptions\n",
    "import talos as ta\n",
    "warnings.filterwarnings(\"ignore\", category=sklearn.exceptions.UndefinedMetricWarning)\n",
    "warnings.simplefilter(action='ignore', category=FutureWarning)\n",
    "\n",
    "from definitions import  TALOS_DIR\n",
    "from app.preprocessing import load_dataset, load_embeddings, preprocess_data\n",
    "from app.models import load_model, find_best_model_over_scan_logs\n"
   ]
  },
  {
   "cell_type": "markdown",
   "metadata": {},
   "source": [
    "## Preprocessing for the loaded Dataset\n",
    "1. Format into *lowercase*\n",
    "2. Remove some of the *punctuation* characters\n",
    "3. Remove *Numbers*\n",
    "4. Remove *stopwords*\n",
    "5. Remove *links*"
   ]
  },
  {
   "cell_type": "code",
   "execution_count": 2,
   "metadata": {},
   "outputs": [
    {
     "name": "stderr",
     "output_type": "stream",
     "text": [
      "[Errno 2] No such file or directory: '/home/giannhs/master_classes/text_analytics/text-classification-mlp/data/stack-overflow-pickle-ftc'\n"
     ]
    },
    {
     "name": "stdout",
     "output_type": "stream",
     "text": [
      "sql              2000\n",
      "ruby-on-rails    2000\n",
      "android          2000\n",
      "angularjs        2000\n",
      "asp.net          2000\n",
      "c                2000\n",
      "c#               2000\n",
      "c++              2000\n",
      "css              2000\n",
      "html             2000\n",
      "ios              2000\n",
      "iphone           2000\n",
      "java             2000\n",
      "javascript       2000\n",
      "jquery           2000\n",
      "mysql            2000\n",
      "objective-c      2000\n",
      "php              2000\n",
      "python           2000\n",
      ".net             2000\n",
      "Name: tags, dtype: int64\n"
     ]
    }
   ],
   "source": [
    "data = load_dataset(load_from_pickle=True, input_ins='as_centroids')\n",
    "Classes = list(data['tags'].value_counts().index)\n",
    "Nclasses = len(Classes)\n",
    "print(data['tags'].value_counts())"
   ]
  },
  {
   "cell_type": "markdown",
   "metadata": {},
   "source": [
    "## MLP classifier in Keras using not standardized **embeddings-centroids** features"
   ]
  },
  {
   "cell_type": "markdown",
   "metadata": {},
   "source": [
    " ### Hyper parameter tuning for the  model"
   ]
  },
  {
   "cell_type": "code",
   "execution_count": null,
   "metadata": {},
   "outputs": [],
   "source": [
    "# 70% Train & 30% Test\n",
    "# 70% Train-Dev % 30* Train-Dev \n",
    "embeddings = load_embeddings(data, 'post', minimized=False)\n",
    "model_data_ftc = preprocess_data(data, 'tags', 'post',\n",
    "                                 input_ins='as_centroids',\n",
    "                                 cv_split_full=0.2,\n",
    "                                 cv_split_dev=0.125,\n",
    "                                 embeddings=embeddings)\n"
   ]
  },
  {
   "cell_type": "code",
   "execution_count": null,
   "metadata": {},
   "outputs": [],
   "source": [
    "TALOS_FTC_LOG_FILENAME = 'talos_ftc_log'\n",
    "talos_ftc_log_pathname = os.path.join(TALOS_DIR, TALOS_FTC_LOG_FILENAME)\n",
    "\n",
    "\n",
    "###### Production configuration\n",
    "ftc_model_config = {\n",
    "    'visualize_proccess': [False],\n",
    "    'first_neuron': [128, 256],  # First Layer\n",
    "    'activation': ['relu', 'tanh'],\n",
    "    'dropout': [0.2, 0.6],\n",
    "    'number_of_hidden_layers': [0, 1, 2],\n",
    "    'shapes':['funnel'],\n",
    "    'epochs': [20, 30],\n",
    "    'batch_size': [32, 64],\n",
    "    'model_type': ['keras_embeddings_centroids_model'],\n",
    "}\n",
    "\n",
    "history_model_ftc = ta.Scan(model_data_ftc['x_train'],\n",
    "                            model_data_ftc['y_train'],\n",
    "                            x_val=model_data_ftc['x_train_dev'],\n",
    "                            y_val=model_data_ftc['y_train_dev'],\n",
    "                            model=load_model,\n",
    "                            params=ftc_model_config,\n",
    "                            grid_downsample=0.1,\n",
    "                            print_params=True,\n",
    "                            seed=(123),\n",
    "                            dataset_name=talos_ftc_log_pathname\n",
    "                            )\n"
   ]
  },
  {
   "cell_type": "markdown",
   "metadata": {},
   "source": [
    "    Finds the best model configuration set for the TF-IDF, after the Talos Scanning."
   ]
  },
  {
   "cell_type": "code",
   "execution_count": null,
   "metadata": {},
   "outputs": [],
   "source": [
    "report_ftc = ta.Reporting(history_model_ftc)\n",
    "best_model_idx = report_ftc.data['val_f1'].idxmax()\n",
    "best_model_params = report_ftc.data.loc[best_model_idx].to_dict()\n",
    "best_model_params\n"
   ]
  },
  {
   "cell_type": "markdown",
   "metadata": {},
   "source": [
    "    Train return a TF-IDF Model with the the best configuration set."
   ]
  },
  {
   "cell_type": "code",
   "execution_count": null,
   "metadata": {},
   "outputs": [],
   "source": [
    "# Train and Load the best model of given the tuned featured model\n",
    "model_ftc_history, model_ftc = load_model(model_data_ftc['x_train'],\n",
    "                                          model_data_ftc['y_train'],\n",
    "                                          model_data_ftc['x_train_dev'],\n",
    "                                          model_data_ftc['y_train_dev'],\n",
    "                                          best_model_params)"
   ]
  },
  {
   "cell_type": "markdown",
   "metadata": {},
   "source": [
    "### Visualize Model History Scores"
   ]
  },
  {
   "cell_type": "code",
   "execution_count": null,
   "metadata": {},
   "outputs": [],
   "source": [
    "from app.visualization import plot_history_metrics\n",
    "import matplotlib.pylab as plt\n",
    "\n",
    "%matplotlib inline\n",
    "plot_history_metrics(history_obj=model_ftc_history)"
   ]
  },
  {
   "cell_type": "markdown",
   "metadata": {},
   "source": [
    "### Evaluate performance model\n",
    "\n",
    "Evaluates the performance of the best trained model in the **test** dataset. "
   ]
  },
  {
   "cell_type": "code",
   "execution_count": null,
   "metadata": {},
   "outputs": [],
   "source": [
    "scoref_ftc = model_ftc.evaluate(model_data_ftc['x_test'],\n",
    "                               model_data_ftc['y_test'],\n",
    "                               batch_size=best_model_params['batch_size'],\n",
    "                               verbose=1)\n",
    "\n",
    "print('\\nTest f1: %.4f' % (scoref_ftc[1]))\n",
    "print('\\nTest categorical accuracy: %.4f'% (scoref_ftc[2]))"
   ]
  },
  {
   "cell_type": "markdown",
   "metadata": {},
   "source": [
    "### Visualize Prediction Perfomance  model"
   ]
  },
  {
   "cell_type": "code",
   "execution_count": null,
   "metadata": {},
   "outputs": [],
   "source": [
    "import numpy as np\n",
    "from app.visualization import (plot_prediction_metrics,\n",
    "                               create_clf_report,\n",
    "                               plot_roc_curve,\n",
    "                               plot_precision_recall_curve,\n",
    "                               plot_confusion_matrix)\n",
    "import matplotlib.pylab as plt\n",
    "\n",
    "prediction_val_ftc = model_ftc.predict(model_data_ftc['x_test'], batch_size=best_model_params['batch_size'])\n",
    "\n",
    "# returns each entry result to the classification with the relevant probabilities\n",
    "y_pred_processed_ftc = np.array([np.argmax(val) for val in prediction_val_ftc])\n",
    "y_true_processed_ftc = np.array([np.argmax(val) for val in model_data_ftc['y_test']])\n",
    "\n",
    "# If you want to see the OneVSAll ROC Curves of each class uncomment the below line\n",
    "# plot_roc_curve(model_data_ftc['y_test'], prediction_val_ftc, Classes, 1)\n",
    "\n",
    "# If you want to see the OneVSAll Precission Recall Curves of each class, comment out the below line\n",
    "# plot_precision_recall_curve(model_data_ftc['y_test'], prediction_val_ftc, Classes , 1)\n",
    "\n",
    "# If you want to get the Classification Report, comment out the below line\n",
    "create_clf_report(y_true_processed_ftc, y_pred_processed_ftc, Classes)\n",
    "\n",
    "# If you want to get the confusion matrix,comment out the below line\n",
    "plot_confusion_matrix(y_true_processed_ftc, y_pred_processed_ftc, Classes)"
   ]
  },
  {
   "cell_type": "markdown",
   "metadata": {},
   "source": [
    "## MLP classifier in Keras using standardized **embeddings-centroids** features"
   ]
  },
  {
   "cell_type": "code",
   "execution_count": null,
   "metadata": {},
   "outputs": [],
   "source": [
    "TALOS_SDR_FTC_LOG_FILENAME = 'talos_sdr_ftc_log'\n",
    "talos_sdr_ftc_log_pathname = os.path.join(TALOS_DIR, TALOS_SDR_FTC_LOG_FILENAME)\n",
    "from app.models import load_model\n",
    "    \n",
    "# Loads the dataset using centroids embeddings but now every word vector has been stardirdized.\n",
    "model_data_sdr_ftc = preprocess_data(data, 'tags', 'post',\n",
    "                                     input_ins='as_centroids',\n",
    "                                     cv_split_full=0.2,\n",
    "                                     cv_split_dev=0.125,\n",
    "                                     standardize=True,\n",
    "                                     embeddings=embeddings)\n",
    "\n",
    "ftc_sdr_model_config = ftc_model_config.copy()\n",
    "ftc_sdr_model_config.update({\n",
    "    'model_type': ['keras_sdr_embeddings_centroids_model']\n",
    "})\n",
    "\n",
    "history_model_sdr_ftc = ta.Scan(model_data_sdr_ftc['x_train'],\n",
    "                                model_data_sdr_ftc['y_train'],\n",
    "                                x_val=model_data_sdr_ftc['x_train_dev'],\n",
    "                                y_val=model_data_sdr_ftc['y_train_dev'],\n",
    "                                model=load_model,\n",
    "                                params=ftc_sdr_model_config,\n",
    "                                grid_downsample=0.1,\n",
    "                                print_params=True,\n",
    "                                seed=(123)\n",
    "                                )"
   ]
  },
  {
   "cell_type": "markdown",
   "metadata": {},
   "source": [
    "    Finds the best model for the Standardized FastText Embeddings Centroids."
   ]
  },
  {
   "cell_type": "code",
   "execution_count": null,
   "metadata": {},
   "outputs": [],
   "source": [
    "report_sdr_ftc = ta.Reporting(history_model_sdr_ftc)\n",
    "\n",
    "#get best model configuration\n",
    "best_model_sdr_ftc_idx = report_sdr_ftc.data['val_f1'].idxmax()\n",
    "best_model_params_sdr_ftc = report_sdr_ftc.data.loc[best_model_sdr_ftc_idx].to_dict()\n",
    "best_model_params_sdr_ftc"
   ]
  },
  {
   "cell_type": "markdown",
   "metadata": {},
   "source": [
    "    Trains and fit the MLP Network with the standardized data using the best selected features."
   ]
  },
  {
   "cell_type": "code",
   "execution_count": null,
   "metadata": {},
   "outputs": [],
   "source": [
    "model_sdr_ftc_history, model_sdr_ftc = load_model(model_data_sdr_ftc['x_train'],\n",
    "                                                  model_data_sdr_ftc['y_train'],\n",
    "                                                  model_data_sdr_ftc['x_train_dev'],\n",
    "                                                  model_data_sdr_ftc['y_train_dev'],\n",
    "                                                  best_model_params_sdr_ftc)"
   ]
  },
  {
   "cell_type": "markdown",
   "metadata": {},
   "source": [
    " ### Visualize Model History Scores\n"
   ]
  },
  {
   "cell_type": "code",
   "execution_count": null,
   "metadata": {},
   "outputs": [],
   "source": [
    "from app.visualization import plot_history_metrics\n",
    "%matplotlib inline\n",
    "plot_history_metrics(model_sdr_ftc_history)"
   ]
  },
  {
   "cell_type": "markdown",
   "metadata": {},
   "source": [
    "### Evaluate performance model\n",
    "\n",
    "Evaluates the performance of the best trained model in the **test** dataset. "
   ]
  },
  {
   "cell_type": "code",
   "execution_count": null,
   "metadata": {},
   "outputs": [],
   "source": [
    "score_sdr_ftc = model_sdr_ftc.evaluate(model_data_sdr_ftc['x_test'],\n",
    "                                       model_data_sdr_ftc['y_test'],\n",
    "                                       batch_size=best_model_params_sdr_ftc['batch_size'],\n",
    "                                       verbose=1)\n",
    "\n",
    "print('\\nTest f1: %.4f' % (score_sdr_ftc[1]))\n",
    "print('\\nTest categorical accuracy: %.4f'% (score_sdr_ftc[2]))"
   ]
  },
  {
   "cell_type": "markdown",
   "metadata": {},
   "source": [
    "### Visualize Prediction Perfomance of standardized centroids MLP model"
   ]
  },
  {
   "cell_type": "code",
   "execution_count": null,
   "metadata": {},
   "outputs": [],
   "source": [
    "import numpy as np\n",
    "from app.visualization import (plot_prediction_metrics,\n",
    "                               create_clf_report,\n",
    "                               plot_roc_curve,\n",
    "                               plot_precision_recall_curve)\n",
    "import matplotlib.pylab as plt\n",
    "\n",
    "prediction_val_sdr_ftc = model_sdr_ftc.predict(model_data_sdr_ftc['x_test'],\n",
    "                                               batch_size=best_model_params_sdr_ftc['batch_size'])\n",
    "\n",
    "# returns each entry result to the classification with the relevant probabilities\n",
    "y_pred_processed_sdr_ftc = np.array([np.argmax(val) for val in prediction_val_sdr_ftc])\n",
    "y_true_processed_sdr_ftc = np.array([np.argmax(val) for val in model_data_sdr_ftc['y_test']])\n",
    "\n",
    "# If you want to get the Classification Report, comment out the below line\n",
    "create_clf_report(y_true_processed_sdr_ftc, y_pred_processed_sdr_ftc, Classes)\n",
    "\n",
    "# If you want to get the confusion matrix,comment out the below line\n",
    "plot_confusion_matrix(y_true_processed_sdr_ftc, y_pred_processed_sdr_ftc, Classes)"
   ]
  }
 ],
 "metadata": {
  "kernelspec": {
   "display_name": "Python 3",
   "language": "python",
   "name": "python3"
  },
  "language_info": {
   "codemirror_mode": {
    "name": "ipython",
    "version": 3
   },
   "file_extension": ".py",
   "mimetype": "text/x-python",
   "name": "python",
   "nbconvert_exporter": "python",
   "pygments_lexer": "ipython3",
   "version": "3.7.3"
  }
 },
 "nbformat": 4,
 "nbformat_minor": 2
}
