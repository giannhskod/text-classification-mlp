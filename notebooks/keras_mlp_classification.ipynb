{
 "cells": [
  {
   "cell_type": "markdown",
   "metadata": {},
   "source": [
    "# Assignment 3"
   ]
  },
  {
   "cell_type": "code",
   "execution_count": 2,
   "metadata": {},
   "outputs": [],
   "source": [
    "import nltk\n",
    "import pandas as pd\n",
    "import numpy as np\n",
    "import itertools\n",
    "%matplotlib inline\n",
    "import matplotlib.pyplot as plt\n",
    "\n",
    "from sklearn.model_selection import train_test_split\n",
    "from sklearn import preprocessing\n",
    "from sklearn.preprocessing import MultiLabelBinarizer\n",
    "from sklearn.feature_extraction.text import TfidfVectorizer\n",
    "\n",
    "from nltk.corpus import reuters\n",
    "from nltk.corpus import stopwords\n",
    "\n",
    "from gensim.models.wrappers import FastText\n",
    "\n",
    "# If 'punkt' is missing then comment out the below line\n",
    "# nltk.download('punkt')\n",
    "# If 'stopwords' is missing then comment out the below line\n",
    "# nltk.download('stopwords')\n",
    "\n",
    "# Globals\n",
    "Nclasses = 4\n"
   ]
  },
  {
   "cell_type": "markdown",
   "metadata": {},
   "source": [
    "## Resuseable Code \n",
    "\n",
    "### Evaluation Metrics"
   ]
  },
  {
   "cell_type": "code",
   "execution_count": 3,
   "metadata": {},
   "outputs": [],
   "source": [
    "def recall(y_true, y_pred):\n",
    "    \n",
    "    \"\"\"\n",
    "    Recall metric.\n",
    "    Only computes a batch-wise average of recall.\n",
    "    Computes the recall, a metric for multi-label classification of\n",
    "    how many relevant items are selected.\n",
    "    \"\"\"\n",
    "    true_positives = K.sum(K.round(K.clip(y_true * y_pred, 0, 1)))\n",
    "    possible_positives = K.sum(K.round(K.clip(y_true, 0, 1)))\n",
    "    recall = true_positives / (possible_positives + K.epsilon())\n",
    "    return recall\n",
    "\n",
    "\n",
    "def precision(y_true, y_pred):\n",
    "    \n",
    "    \"\"\"\n",
    "    Precision metric.\n",
    "    Only computes a batch-wise average of precision.\n",
    "    Computes the precision, a metric for multi-label classification of\n",
    "    how many selected items are relevant.\n",
    "    Source\n",
    "    ------\n",
    "    https://github.com/fchollet/keras/issues/5400#issuecomment-314747992\n",
    "    \"\"\"\n",
    "    true_positives = K.sum(K.round(K.clip(y_true * y_pred, 0, 1)))\n",
    "    predicted_positives = K.sum(K.round(K.clip(y_pred, 0, 1)))\n",
    "    precision = true_positives / (predicted_positives + K.epsilon())\n",
    "    return precision\n",
    "\n",
    "\n",
    "def f1(y_true, y_pred):\n",
    "    \n",
    "    \"\"\"Calculate the F1 score.\"\"\"\n",
    "    p = precision(y_true, y_pred)\n",
    "    r = recall(y_true, y_pred)\n",
    "    return 2 * ((p * r) / (p + r))\n",
    "\n",
    "\n",
    "def accuracy(y_true, y_pred):\n",
    "    return K.mean(K.equal(y_true, K.round(y_pred)), axis=1)"
   ]
  },
  {
   "cell_type": "markdown",
   "metadata": {},
   "source": [
    "### Data Formatting Methods"
   ]
  },
  {
   "cell_type": "code",
   "execution_count": 4,
   "metadata": {},
   "outputs": [],
   "source": [
    "#Calculate centroid function\n",
    "\n",
    "def text_centroid(text, model):\n",
    "    \n",
    "    text_vec =[]\n",
    "    counter = 0\n",
    "    sent_text = nltk.sent_tokenize(text)\n",
    "    for sentence in sent_text:\n",
    "        sent_tokenized = nltk.word_tokenize(sentence)\n",
    "        for word in sent_tokenized:\n",
    "            try:\n",
    "                if counter == 0:\n",
    "                    text_vec = model[word.lower()]\n",
    "                else:\n",
    "                    text_vec = np.add(text_vec, model[word.lower()])\n",
    "                counter+=1\n",
    "            except:\n",
    "                pass\n",
    "    \n",
    "    return np.asarray(text_vec) / counter\n"
   ]
  },
  {
   "cell_type": "markdown",
   "metadata": {},
   "source": [
    "### Visualization Methods"
   ]
  },
  {
   "cell_type": "code",
   "execution_count": 5,
   "metadata": {},
   "outputs": [],
   "source": [
    "# summarize history for f1\n",
    "def plot_history(history_obj):\n",
    "    plt.plot(history_obj.history['f1'])\n",
    "    plt.plot(history_obj.history['val_f1'])\n",
    "    plt.title('model f1')\n",
    "    plt.ylabel('f1-score')\n",
    "    plt.xlabel('epoch')\n",
    "    plt.legend(['train', 'dev'], loc='upper left')\n",
    "    plt.show()\n",
    "    \n",
    "    # summarize history for loss\n",
    "    plt.plot(history_obj.history['loss'])\n",
    "    plt.plot(history_obj.history['val_loss'])\n",
    "    plt.title('model loss')\n",
    "    plt.ylabel('loss')\n",
    "    plt.xlabel('epoch')\n",
    "    plt.legend(['train', 'dev'], loc='upper right')\n",
    "    plt.show()"
   ]
  },
  {
   "cell_type": "markdown",
   "metadata": {},
   "source": [
    "# Load and Process Dataset"
   ]
  },
  {
   "cell_type": "code",
   "execution_count": 6,
   "metadata": {},
   "outputs": [
    {
     "data": {
      "text/plain": [
       "c             2000\n",
       "java          2000\n",
       "javascript    2000\n",
       "python        2000\n",
       "Name: tags, dtype: int64"
      ]
     },
     "execution_count": 6,
     "metadata": {},
     "output_type": "execute_result"
    }
   ],
   "source": [
    "# dataset can be found at \n",
    "# https://d1p17r2m4rzlbo.cloudfront.net/wp-content/uploads/2016/03/judge-1377884607_tweet_product_company.csv\n",
    "total_df = pd.read_csv('stack-overflow-data.csv')\n",
    "data = total_df.loc[total_df['tags'].isin(['python', 'java', 'c', 'javascript'])]\n",
    "# data = data[data.post.notnull()]\n",
    "\n",
    "data.head(20)\n",
    "data.shape\n",
    "data['tags'].value_counts()"
   ]
  },
  {
   "cell_type": "code",
   "execution_count": 7,
   "metadata": {},
   "outputs": [],
   "source": [
    "def load_data(input_data, label_field, text_field, input_ins='as_tf_idf', **kwargs):\n",
    "    \"\"\"\n",
    "    Generates the train-test data for the model based on the given argunments.\n",
    "    \n",
    "    Args:\n",
    "        'input_data' (pandas.DataFrame): The dataset Dataframe that will be splitted in train-test data. \n",
    "        'input_ins' (str): If 'as_tf_idf' is given then it generates tf-idf vectors per text row\n",
    "                     If 'as_centroids' is given then it generates centroids per text row\n",
    "    It returns a dictionary with the below structure:\n",
    "        {\n",
    "            'x_train' (numpy.array),\n",
    "            'x_test' (numpy.array),\n",
    "            'y_train' (numpy.array),\n",
    "            'y_test' (numpy.array),\n",
    "        }\n",
    "    \n",
    "    \"\"\"\n",
    "    assert all([label_field, text_field]),\\\n",
    "        \"Fields <label_field>, <text_field> cannot be None or empty\"\n",
    "    train, test = train_test_split(input_data, test_size = 0.3, random_state=1596)\n",
    "    \n",
    "    x_train = np.array(list(itertools.chain.from_iterable(train[[text_field]].values.astype('U').tolist())))\n",
    "    x_test = np.array(list(itertools.chain.from_iterable(test[[text_field]].values.astype('U').tolist())))\n",
    "    \n",
    "    if input_ins == 'as_tf_idf':\n",
    "        stop_words = stopwords.words(\"english\")\n",
    "        vectorizer = TfidfVectorizer(ngram_range=(1, 2), max_features = 5000,sublinear_tf=True,stop_words=stopwords.words('english'))\n",
    "        \n",
    "        x_train = vectorizer.fit_transform(x_train).toarray()\n",
    "        x_test = vectorizer.transform(x_test).toarray()\n",
    "        \n",
    "    else:\n",
    "        x_train = np.array(list(map(lambda text: text_centroid(text, fasttext), x_train)))\n",
    "        x_train = np.stack(x_train, axis=0)\n",
    "        x_test = np.array(list(map(lambda text: text_centroid(text, fasttext), x_test)))\n",
    "        x_test = np.stack(x_test, axis=0)\n",
    "        \n",
    "    mlb = MultiLabelBinarizer()\n",
    "\n",
    "    y_train = mlb.fit_transform(train[[label_field]].values.tolist())\n",
    "    y_test = mlb.transform(test[[label_field]].values.tolist())\n",
    "    \n",
    "    return {\n",
    "        'x_train': x_train,\n",
    "        'x_test': x_test,\n",
    "        'y_train': y_train,\n",
    "        'y_test': y_test\n",
    "    }\n"
   ]
  },
  {
   "cell_type": "markdown",
   "metadata": {},
   "source": [
    "# Text classification with tf*idf features"
   ]
  },
  {
   "cell_type": "markdown",
   "metadata": {},
   "source": [
    "## MLP classifier in Keras using tf*idf features"
   ]
  },
  {
   "cell_type": "code",
   "execution_count": 7,
   "metadata": {},
   "outputs": [
    {
     "name": "stderr",
     "output_type": "stream",
     "text": [
      "Using TensorFlow backend.\n"
     ]
    },
    {
     "name": "stdout",
     "output_type": "stream",
     "text": [
      "(5600, 4)\n",
      "WARNING:tensorflow:From /home/giannhs/virtualenvs/practical-data-science-ZUeOpN1H/lib/python3.7/site-packages/tensorflow/python/framework/op_def_library.py:263: colocate_with (from tensorflow.python.framework.ops) is deprecated and will be removed in a future version.\n",
      "Instructions for updating:\n",
      "Colocations handled automatically by placer.\n",
      "WARNING:tensorflow:From /home/giannhs/virtualenvs/practical-data-science-ZUeOpN1H/lib/python3.7/site-packages/keras/backend/tensorflow_backend.py:3445: calling dropout (from tensorflow.python.ops.nn_ops) with keep_prob is deprecated and will be removed in a future version.\n",
      "Instructions for updating:\n",
      "Please use `rate` instead of `keep_prob`. Rate should be set to `rate = 1 - keep_prob`.\n",
      "_________________________________________________________________\n",
      "Layer (type)                 Output Shape              Param #   \n",
      "=================================================================\n",
      "dense_1 (Dense)              (None, 512)               2560512   \n",
      "_________________________________________________________________\n",
      "dropout_1 (Dropout)          (None, 512)               0         \n",
      "_________________________________________________________________\n",
      "dense_2 (Dense)              (None, 256)               131328    \n",
      "_________________________________________________________________\n",
      "dropout_2 (Dropout)          (None, 256)               0         \n",
      "_________________________________________________________________\n",
      "dense_3 (Dense)              (None, 4)                 1028      \n",
      "=================================================================\n",
      "Total params: 2,692,868\n",
      "Trainable params: 2,692,868\n",
      "Non-trainable params: 0\n",
      "_________________________________________________________________\n",
      "None\n",
      "WARNING:tensorflow:From /home/giannhs/virtualenvs/practical-data-science-ZUeOpN1H/lib/python3.7/site-packages/tensorflow/python/ops/math_ops.py:3066: to_int32 (from tensorflow.python.ops.math_ops) is deprecated and will be removed in a future version.\n",
      "Instructions for updating:\n",
      "Use tf.cast instead.\n"
     ]
    },
    {
     "data": {
      "text/plain": [
       "HBox(children=(IntProgress(value=0, description='Training', max=10, style=ProgressStyle(description_width='ini…"
      ]
     },
     "metadata": {},
     "output_type": "display_data"
    },
    {
     "data": {
      "text/plain": [
       "HBox(children=(IntProgress(value=0, description='Epoch 0', max=5600, style=ProgressStyle(description_width='in…"
      ]
     },
     "metadata": {},
     "output_type": "display_data"
    },
    {
     "name": "stdout",
     "output_type": "stream",
     "text": [
      "\n",
      "Epoch 00001: val_f1 improved from -inf to 0.95518, saving model to keras_tf_idf_model\n"
     ]
    },
    {
     "data": {
      "text/plain": [
       "HBox(children=(IntProgress(value=0, description='Epoch 1', max=5600, style=ProgressStyle(description_width='in…"
      ]
     },
     "metadata": {},
     "output_type": "display_data"
    },
    {
     "name": "stdout",
     "output_type": "stream",
     "text": [
      "\n",
      "Epoch 00002: val_f1 did not improve from 0.95518\n"
     ]
    },
    {
     "data": {
      "text/plain": [
       "HBox(children=(IntProgress(value=0, description='Epoch 2', max=5600, style=ProgressStyle(description_width='in…"
      ]
     },
     "metadata": {},
     "output_type": "display_data"
    },
    {
     "name": "stdout",
     "output_type": "stream",
     "text": [
      "\n",
      "Epoch 00003: val_f1 improved from 0.95518 to 0.95621, saving model to keras_tf_idf_model\n"
     ]
    },
    {
     "data": {
      "text/plain": [
       "HBox(children=(IntProgress(value=0, description='Epoch 3', max=5600, style=ProgressStyle(description_width='in…"
      ]
     },
     "metadata": {},
     "output_type": "display_data"
    },
    {
     "name": "stdout",
     "output_type": "stream",
     "text": [
      "\n",
      "Epoch 00004: val_f1 did not improve from 0.95621\n"
     ]
    },
    {
     "data": {
      "text/plain": [
       "HBox(children=(IntProgress(value=0, description='Epoch 4', max=5600, style=ProgressStyle(description_width='in…"
      ]
     },
     "metadata": {},
     "output_type": "display_data"
    },
    {
     "name": "stdout",
     "output_type": "stream",
     "text": [
      "\n",
      "Epoch 00005: val_f1 did not improve from 0.95621\n"
     ]
    },
    {
     "data": {
      "text/plain": [
       "HBox(children=(IntProgress(value=0, description='Epoch 5', max=5600, style=ProgressStyle(description_width='in…"
      ]
     },
     "metadata": {},
     "output_type": "display_data"
    },
    {
     "name": "stdout",
     "output_type": "stream",
     "text": [
      "\n",
      "Epoch 00006: val_f1 did not improve from 0.95621\n"
     ]
    },
    {
     "data": {
      "text/plain": [
       "HBox(children=(IntProgress(value=0, description='Epoch 6', max=5600, style=ProgressStyle(description_width='in…"
      ]
     },
     "metadata": {},
     "output_type": "display_data"
    },
    {
     "name": "stdout",
     "output_type": "stream",
     "text": [
      "\n",
      "Epoch 00007: val_f1 did not improve from 0.95621\n"
     ]
    },
    {
     "data": {
      "text/plain": [
       "HBox(children=(IntProgress(value=0, description='Epoch 7', max=5600, style=ProgressStyle(description_width='in…"
      ]
     },
     "metadata": {},
     "output_type": "display_data"
    },
    {
     "name": "stdout",
     "output_type": "stream",
     "text": [
      "\n",
      "Epoch 00008: val_f1 did not improve from 0.95621\n"
     ]
    },
    {
     "data": {
      "text/plain": [
       "HBox(children=(IntProgress(value=0, description='Epoch 8', max=5600, style=ProgressStyle(description_width='in…"
      ]
     },
     "metadata": {},
     "output_type": "display_data"
    },
    {
     "name": "stdout",
     "output_type": "stream",
     "text": [
      "\n",
      "Epoch 00009: val_f1 did not improve from 0.95621\n"
     ]
    },
    {
     "data": {
      "text/plain": [
       "HBox(children=(IntProgress(value=0, description='Epoch 9', max=5600, style=ProgressStyle(description_width='in…"
      ]
     },
     "metadata": {},
     "output_type": "display_data"
    },
    {
     "name": "stdout",
     "output_type": "stream",
     "text": [
      "\n",
      "Epoch 00010: val_f1 did not improve from 0.95621\n",
      "\n"
     ]
    }
   ],
   "source": [
    "import warnings\n",
    "import sklearn.exceptions\n",
    "warnings.filterwarnings(\"ignore\", category=sklearn.exceptions.UndefinedMetricWarning)\n",
    "warnings.simplefilter(action='ignore', category=FutureWarning)\n",
    "from keras.callbacks import ModelCheckpoint\n",
    "from keras_tqdm import TQDMNotebookCallback\n",
    "from keras.models import Sequential\n",
    "from keras.layers.core import Dense, Dropout\n",
    "from keras.optimizers import Adam\n",
    "from keras import backend as K\n",
    "\n",
    "\n",
    "model_data = load_data(data, 'tags', 'post')\n",
    "print(model_data['y_train'].shape)\n",
    "model = Sequential()\n",
    "model.add(Dense(512, input_dim=model_data['x_train'].shape[1] , activation='relu'))\n",
    "# Dropout probability in order to avoid overfitting.\n",
    "model.add(Dropout(0.5))\n",
    "model.add(Dense(256,  activation='relu'))\n",
    "model.add(Dropout(0.5))\n",
    "model.add(Dense(Nclasses,  activation='sigmoid'))\n",
    "\n",
    "print(model.summary())\n",
    "#Model compilation parameterized with  \n",
    "model.compile(loss='binary_crossentropy',\n",
    "              optimizer=Adam(lr=0.001),\n",
    "              metrics=[precision, recall, f1, accuracy])\n",
    "\n",
    "checkpoint = ModelCheckpoint('keras_tf_idf_model', monitor='val_f1', verbose=1, save_best_only=True, mode='max')\n",
    "\n",
    "history = model.fit(model_data['x_train'], model_data['y_train'],\n",
    "              batch_size=32,\n",
    "              epochs=10,\n",
    "              verbose = 0,\n",
    "              callbacks=[checkpoint,TQDMNotebookCallback()],\n",
    "              validation_data=(model_data['x_test'], model_data['y_test']),\n",
    "              shuffle=True)"
   ]
  },
  {
   "cell_type": "markdown",
   "metadata": {},
   "source": [
    " ### Notes of TF-IDF MLD Text Classification\n",
    " \n",
    " Based on the parameter tuning of the Model that is used for the text classification we hav"
   ]
  },
  {
   "cell_type": "markdown",
   "metadata": {},
   "source": [
    "## Visualize Model Training History"
   ]
  },
  {
   "cell_type": "code",
   "execution_count": 8,
   "metadata": {},
   "outputs": [
    {
     "data": {
      "image/png": "[encoded data removed]",
      "text/plain": [
       "<Figure size 432x288 with 1 Axes>"
      ]
     },
     "metadata": {
      "needs_background": "light"
     },
     "output_type": "display_data"
    },
    {
     "data": {
      "image/png": "[encoded data removed]",
      "text/plain": [
       "<Figure size 432x288 with 1 Axes>"
      ]
     },
     "metadata": {
      "needs_background": "light"
     },
     "output_type": "display_data"
    }
   ],
   "source": [
    "plot_history(history)"
   ]
  },
  {
   "cell_type": "markdown",
   "metadata": {},
   "source": [
    "## Evaluate performance of tf-idf MLP model"
   ]
  },
  {
   "cell_type": "code",
   "execution_count": 9,
   "metadata": {},
   "outputs": [
    {
     "name": "stdout",
     "output_type": "stream",
     "text": [
      "2400/2400 [==============================] - 0s 139us/step\n",
      "\n",
      "Test Binary_cross_entropy: 0.0959\n",
      "\n",
      "Test precision: 0.9696\n",
      "\n",
      "Test recall: 0.9363\n",
      "\n",
      "Test f1: 0.9523\n",
      "\n",
      "Test accuracy: 0.9767\n"
     ]
    }
   ],
   "source": [
    "score = model.evaluate(model_data['x_test'], model_data['y_test'], batch_size=32, verbose=1)\n",
    "\n",
    "print('\\nTest Binary_cross_entropy: %.4f' %  (score[0]))\n",
    "print('\\nTest precision: %.4f' %  (score[1]))\n",
    "print('\\nTest recall: %.4f' %  (score[2]))\n",
    "print('\\nTest f1: %.4f' % (score[3]))\n",
    "print('\\nTest accuracy: %.4f'% (score[4]))"
   ]
  },
  {
   "cell_type": "markdown",
   "metadata": {},
   "source": [
    "# Text classification with embedding centroids"
   ]
  },
  {
   "cell_type": "markdown",
   "metadata": {},
   "source": [
    "## MLP text classifier in Keras with fasttext centroids"
   ]
  },
  {
   "cell_type": "code",
   "execution_count": 8,
   "metadata": {},
   "outputs": [
    {
     "ename": "NameError",
     "evalue": "name 'Sequential' is not defined",
     "traceback": [
      "\u001b[0;31m---------------------------------------------------------------------------\u001b[0m",
      "\u001b[0;31mNameError\u001b[0m                                 Traceback (most recent call last)",
      "\u001b[0;32m<ipython-input-8-3c6c48323bff>\u001b[0m in \u001b[0;36m<module>\u001b[0;34m()\u001b[0m\n\u001b[1;32m      5\u001b[0m \u001b[0mmodel2_data\u001b[0m \u001b[0;34m=\u001b[0m \u001b[0mload_data\u001b[0m\u001b[0;34m(\u001b[0m\u001b[0mdata\u001b[0m\u001b[0;34m,\u001b[0m \u001b[0;34m'tags'\u001b[0m\u001b[0;34m,\u001b[0m \u001b[0;34m'post'\u001b[0m\u001b[0;34m,\u001b[0m \u001b[0;34m'as_centroids'\u001b[0m\u001b[0;34m)\u001b[0m\u001b[0;34m\u001b[0m\u001b[0;34m\u001b[0m\u001b[0m\n\u001b[1;32m      6\u001b[0m \u001b[0;34m\u001b[0m\u001b[0m\n\u001b[0;32m----> 7\u001b[0;31m \u001b[0mmodel2\u001b[0m \u001b[0;34m=\u001b[0m \u001b[0mSequential\u001b[0m\u001b[0;34m(\u001b[0m\u001b[0;34m)\u001b[0m\u001b[0;34m\u001b[0m\u001b[0;34m\u001b[0m\u001b[0m\n\u001b[0m\u001b[1;32m      8\u001b[0m \u001b[0mmodel2\u001b[0m\u001b[0;34m.\u001b[0m\u001b[0madd\u001b[0m\u001b[0;34m(\u001b[0m\u001b[0mDense\u001b[0m\u001b[0;34m(\u001b[0m\u001b[0;36m256\u001b[0m\u001b[0;34m,\u001b[0m \u001b[0minput_dim\u001b[0m\u001b[0;34m=\u001b[0m\u001b[0mmodel2_data\u001b[0m\u001b[0;34m[\u001b[0m\u001b[0;34m'x_train'\u001b[0m\u001b[0;34m]\u001b[0m\u001b[0;34m.\u001b[0m\u001b[0mshape\u001b[0m\u001b[0;34m[\u001b[0m\u001b[0;36m1\u001b[0m\u001b[0;34m]\u001b[0m \u001b[0;34m,\u001b[0m \u001b[0mactivation\u001b[0m\u001b[0;34m=\u001b[0m\u001b[0;34m'relu'\u001b[0m\u001b[0;34m)\u001b[0m\u001b[0;34m)\u001b[0m\u001b[0;34m\u001b[0m\u001b[0;34m\u001b[0m\u001b[0m\n\u001b[1;32m      9\u001b[0m \u001b[0mmodel2\u001b[0m\u001b[0;34m.\u001b[0m\u001b[0madd\u001b[0m\u001b[0;34m(\u001b[0m\u001b[0mDropout\u001b[0m\u001b[0;34m(\u001b[0m\u001b[0;36m0.5\u001b[0m\u001b[0;34m)\u001b[0m\u001b[0;34m)\u001b[0m\u001b[0;34m\u001b[0m\u001b[0;34m\u001b[0m\u001b[0m\n",
      "\u001b[0;31mNameError\u001b[0m: name 'Sequential' is not defined"
     ],
     "output_type": "error"
    }
   ],
   "source": [
    "# If 'cc.en.300.bin.gz' is not downloaded then comment out the below lines\n",
    "# !wget https://dl.fbaipublicfiles.com/fasttext/vectors-crawl/cc.en.300.bin.gz\n",
    "# !gzip -d cc.en.300.bin.gz\n",
    "fasttext = FastText.load_fasttext_format('cc.en.300.bin')\n",
    "model2_data = load_data(data, 'tags', 'post', 'as_centroids')\n",
    "\n",
    "model2 = Sequential()\n",
    "model2.add(Dense(256, input_dim=model2_data['x_train'].shape[1] , activation='relu'))\n",
    "model2.add(Dropout(0.5))\n",
    "model2.add(Dense(128,  activation='relu'))\n",
    "model2.add(Dropout(0.5))\n",
    "model2.add(Dense(64,  activation='relu'))\n",
    "model2.add(Dropout(0.5))\n",
    "model2.add(Dense(Nclasses,  activation='sigmoid'))\n",
    "\n",
    "print(model2.summary())\n",
    "model2.compile(loss='binary_crossentropy',\n",
    "               optimizer=Adam(lr=0.001),\n",
    "               metrics=[precision, recall, f1, accuracy])\n",
    "\n",
    "checkpoint2 = ModelCheckpoint('keras_fastetxt_centroids_model', monitor='val_f1', verbose=1, save_best_only=True, mode='max')\n",
    "\n",
    "history2 = model2.fit(model2_data['x_train'], model2_data['y_train'],\n",
    "              batch_size=32,\n",
    "              epochs=35,\n",
    "              verbose = 0,\n",
    "              callbacks=[checkpoint2,TQDMNotebookCallback()],\n",
    "              validation_data=(model2_data['x_test'], model2_data['y_test']),\n",
    "              shuffle=True)"
   ]
  },
  {
   "cell_type": "markdown",
   "metadata": {},
   "source": [
    " ## Visualize Model Training History"
   ]
  },
  {
   "cell_type": "code",
   "execution_count": 13,
   "metadata": {},
   "outputs": [
    {
     "data": {
      "image/png": "[encoded data removed]",
      "text/plain": [
       "<Figure size 432x288 with 1 Axes>"
      ]
     },
     "metadata": {
      "needs_background": "light"
     },
     "output_type": "display_data"
    },
    {
     "data": {
      "image/png": "[encoded data removed]",
      "text/plain": [
       "<Figure size 432x288 with 1 Axes>"
      ]
     },
     "metadata": {
      "needs_background": "light"
     },
     "output_type": "display_data"
    }
   ],
   "source": [
    "plot_history(history2)"
   ]
  },
  {
   "cell_type": "markdown",
   "metadata": {},
   "source": [
    "## Evaluate performance of centroids MLP model"
   ]
  },
  {
   "cell_type": "code",
   "execution_count": 12,
   "metadata": {},
   "outputs": [
    {
     "name": "stdout",
     "output_type": "stream",
     "text": [
      "2400/2400 [==============================] - 0s 129us/step\n",
      "\n",
      "Test Binary_cross_entropy: 0.1574\n",
      "\n",
      "Test precision: 0.8933\n",
      "\n",
      "Test recall: 0.8554\n",
      "\n",
      "Test f1: 0.8736\n",
      "\n",
      "Test accuracy: 0.9384\n"
     ]
    }
   ],
   "source": [
    "score2 = model2.evaluate(model2_data['x_test'], model2_data['y_test'], batch_size=32, verbose=1)\n",
    "print('\\nTest Binary_cross_entropy: %.4f' %  (score2[0]))\n",
    "print('\\nTest precision: %.4f' %  (score2[1]))\n",
    "print('\\nTest recall: %.4f' %  (score2[2]))\n",
    "print('\\nTest f1: %.4f' % (score2[3]))\n",
    "print('\\nTest accuracy: %.4f'% (score2[4]))"
   ]
  }
 ],
 "metadata": {
  "kernelspec": {
   "display_name": "Python 3",
   "language": "python",
   "name": "python3"
  },
  "language_info": {
   "codemirror_mode": {
    "name": "ipython",
    "version": 3
   },
   "file_extension": ".py",
   "mimetype": "text/x-python",
   "name": "python",
   "nbconvert_exporter": "python",
   "pygments_lexer": "ipython3",
   "version": "3.7.1"
  }
 },
 "nbformat": 4,
 "nbformat_minor": 2
}
